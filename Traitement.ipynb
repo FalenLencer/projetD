{
 "cells": [
  {
   "cell_type": "markdown",
   "id": "c21121b0",
   "metadata": {},
   "source": [
    "## Ce code convertie notre fichier csv au fomat .xyz"
   ]
  },
  {
   "cell_type": "code",
   "execution_count": 2,
   "id": "b78944a4",
   "metadata": {},
   "outputs": [],
   "source": [
    "import numpy as np\n",
    "from math import pi\n",
    "\n",
    "def rad(x):\n",
    "    return (x * pi) / 180\n",
    "\n",
    "def conversion(points,rcut=100000):\n",
    "    r, t, p = points\n",
    "    if r>rcut : return None\n",
    "    x = r * np.sin(rad(t)) * np.cos(rad(p))\n",
    "    y = r * np.sin(rad(t)) * np.sin(rad(p))\n",
    "    z = r * np.cos(rad(t))\n",
    "    return x, y, z\n",
    "\n",
    "f=open('data_conv.xyz','w')\n",
    "with open('DATA.CSV', 'r') as file:\n",
    "    for line in file:\n",
    "        values = list(map(float, line.strip().split(',')))\n",
    "        if not conversion(values) : continue\n",
    "        x, y, z = conversion(values)\n",
    "        f.write(f'{x} {y} {z}\\n')\n",
    "        \n",
    "f.close()"
   ]
  },
  {
   "cell_type": "markdown",
   "id": "ada2ecde",
   "metadata": {},
   "source": [
    "## En fonction de vos besoins , vous pouvez filtrer ou non vos données"
   ]
  },
  {
   "cell_type": "code",
   "execution_count": 1,
   "id": "e3401fae",
   "metadata": {},
   "outputs": [],
   "source": [
    "def traitement(points):\n",
    "    x, y, z = points\n",
    "    if float(x) < -8000 or float(x) > 8000 or float(y) < -8000 or float(y) > 8000 or float(z) < -8000 or float(z) > 8000 or float(x)==0 or float(y)==0  or float(z)==0:\n",
    "        return True\n",
    "    return False\n",
    "\n",
    "\n",
    "with open('data_conv.xyz', 'r') as f:\n",
    "    with open('data_conv_filtre.xyz', 'w') as f_out:\n",
    "        for ligne in f:\n",
    "            if not traitement(list(map(float,ligne.strip().split(\" \")))):\n",
    "                f_out.write(ligne)"
   ]
  },
  {
   "cell_type": "markdown",
   "id": "5b0c070d",
   "metadata": {},
   "source": [
    "#### Ce code peut vous permettre de gerer l'extraction des points en convertissant au format pour matlab"
   ]
  },
  {
   "cell_type": "code",
   "execution_count": 9,
   "id": "67199635",
   "metadata": {},
   "outputs": [],
   "source": [
    "with open('data_conv_filtre.xyz', 'r') as f_in:\n",
    "    with open('matlab.csv','w') as f_out :\n",
    "        for ligne in f_in :\n",
    "            f_out.write(\",\".join(ligne.split(\" \")))"
   ]
  },
  {
   "cell_type": "markdown",
   "id": "03499ac9-11a9-42b4-aee2-baa74097b1f8",
   "metadata": {},
   "source": [
    "## Ici on cree un fichier STL compose de face triangulaire seulement"
   ]
  },
  {
   "cell_type": "code",
   "execution_count": 27,
   "id": "b4f610fd-579f-427f-bff1-2c7c7033c2c2",
   "metadata": {},
   "outputs": [
    {
     "name": "stdout",
     "output_type": "stream",
     "text": [
      "solid \n",
      "facet normal 0.0 0.0 -1.0\n",
      "outer loop\n",
      "vertex 0.0 1.0 0.0\n",
      "vertex 1.5 0.5 0.0\n",
      "vertex 1.5 0.0 0.0\n",
      "endloop\n",
      "endfacet\n",
      "facet normal -0.0 -0.0 -1.0\n",
      "outer loop\n",
      "vertex 0.0 1.0 0.0\n",
      "vertex 1.5 0.0 0.0\n",
      "vertex 0.0 0.0 0.0\n",
      "endloop\n",
      "endfacet\n",
      "facet normal 0.0 0.0 -1.0\n",
      "outer loop\n",
      "vertex 1.0 1.0 0.0\n",
      "vertex 1.5 0.5 0.0\n",
      "vertex 0.0 1.0 0.0\n",
      "endloop\n",
      "endfacet\n",
      "facet normal 0.7071067811865475 0.7071067811865475 0.0\n",
      "outer loop\n",
      "vertex 1.5 0.5 0.5\n",
      "vertex 1.5 0.5 0.0\n",
      "vertex 1.0 1.0 0.0\n",
      "endloop\n",
      "endfacet\n",
      "facet normal 0.7071067811865475 0.7071067811865475 -0.0\n",
      "outer loop\n",
      "vertex 1.5 0.5 0.5\n",
      "vertex 1.0 1.0 0.0\n",
      "vertex 1.0 1.0 1.0\n",
      "endloop\n",
      "endfacet\n",
      "facet normal 0.0 0.0 1.0\n",
      "outer loop\n",
      "vertex 0.0 0.0 1.0\n",
      "vertex 1.0 0.0 1.0\n",
      "vertex 0.0 1.0 1.0\n",
      "endloop\n",
      "endfacet\n",
      "facet normal -0.0 0.0 1.0\n",
      "outer loop\n",
      "vertex 0.0 1.0 1.0\n",
      "vertex 1.0 0.0 1.0\n",
      "vertex 1.0 1.0 1.0\n",
      "endloop\n",
      "endfacet\n",
      "facet normal -0.0 1.0 -0.0\n",
      "outer loop\n",
      "vertex 1.0 1.0 0.0\n",
      "vertex 0.0 1.0 0.0\n",
      "vertex 0.0 1.0 1.0\n",
      "endloop\n",
      "endfacet\n",
      "facet normal -0.0 1.0 -0.0\n",
      "outer loop\n",
      "vertex 1.0 1.0 1.0\n",
      "vertex 1.0 1.0 0.0\n",
      "vertex 0.0 1.0 1.0\n",
      "endloop\n",
      "endfacet\n",
      "facet normal -1.0 -0.0 -0.0\n",
      "outer loop\n",
      "vertex 0.0 0.0 0.0\n",
      "vertex 0.0 0.0 1.0\n",
      "vertex 0.0 1.0 1.0\n",
      "endloop\n",
      "endfacet\n",
      "facet normal -1.0 -0.0 -0.0\n",
      "outer loop\n",
      "vertex 0.0 1.0 1.0\n",
      "vertex 0.0 1.0 0.0\n",
      "vertex 0.0 0.0 0.0\n",
      "endloop\n",
      "endfacet\n",
      "facet normal -0.0 -1.0 -0.0\n",
      "outer loop\n",
      "vertex 1.5 0.0 0.5\n",
      "vertex 0.0 0.0 1.0\n",
      "vertex 0.0 0.0 0.0\n",
      "endloop\n",
      "endfacet\n",
      "facet normal -0.0 -1.0 -0.0\n",
      "outer loop\n",
      "vertex 0.0 0.0 0.0\n",
      "vertex 1.5 0.0 0.0\n",
      "vertex 1.5 0.0 0.5\n",
      "endloop\n",
      "endfacet\n",
      "facet normal 0.0 -1.0 0.0\n",
      "outer loop\n",
      "vertex 1.5 0.0 0.5\n",
      "vertex 1.0 0.0 1.0\n",
      "vertex 0.0 0.0 1.0\n",
      "endloop\n",
      "endfacet\n",
      "facet normal 1.0 0.0 0.0\n",
      "outer loop\n",
      "vertex 1.5 0.0 0.0\n",
      "vertex 1.5 0.5 0.0\n",
      "vertex 1.5 0.0 0.5\n",
      "endloop\n",
      "endfacet\n",
      "facet normal 1.0 -0.0 -0.0\n",
      "outer loop\n",
      "vertex 1.5 0.5 0.0\n",
      "vertex 1.5 0.5 0.5\n",
      "vertex 1.5 0.0 0.5\n",
      "endloop\n",
      "endfacet\n",
      "facet normal 0.7071067811865475 -0.0 0.7071067811865475\n",
      "outer loop\n",
      "vertex 1.5 0.0 0.5\n",
      "vertex 1.5 0.5 0.5\n",
      "vertex 1.0 1.0 1.0\n",
      "endloop\n",
      "endfacet\n",
      "facet normal 0.7071067811865475 -0.0 0.7071067811865475\n",
      "outer loop\n",
      "vertex 1.0 1.0 1.0\n",
      "vertex 1.0 0.0 1.0\n",
      "vertex 1.5 0.0 0.5\n",
      "endloop\n",
      "endfacet\n",
      "\n",
      "endsolid\n",
      "\n"
     ]
    }
   ],
   "source": [
    "import numpy as np\n",
    "import trimesh\n",
    "\n",
    "def lire_fichier_xyz(fichier_xyz):\n",
    "    with open(fichier_xyz, \"r\") as f:\n",
    "        liste_de_points = [ligne.strip().split() for ligne in f]\n",
    "    return np.array(liste_de_points, dtype=np.float64)\n",
    "\n",
    "fichier_xyz = \"111.txt\"\n",
    "#fichier_xyz = \"Carre_test.xyz\"\n",
    "liste_de_points = lire_fichier_xyz(fichier_xyz)\n",
    "\n",
    "mesh = trimesh.Trimesh(liste_de_points)\n",
    "\n",
    "mesh_simplifie = mesh.convex_hull\n",
    "#mesh_simplifie = mesh.convex\n",
    "\n",
    "print(mesh_simplifie.export(\"output_trimesh_test111.stl\",file_type='stl_ascii'))\n",
    "#print(mesh.export(\"output_trimesh_test111.stl\",file_type='stl_ascii'))"
   ]
  },
  {
   "cell_type": "markdown",
   "id": "619832d2",
   "metadata": {},
   "source": [
    "## Enfin vous pourrez visualiser vos nuage de points grace a ceci :"
   ]
  },
  {
   "cell_type": "code",
   "execution_count": 17,
   "id": "cf96a10c",
   "metadata": {},
   "outputs": [
    {
     "name": "stdout",
     "output_type": "stream",
     "text": [
      "[Open3D WARNING] Read XYZ failed: unable to open file: data_conv_filtre.xyz\n",
      "[Open3D WARNING] The number of points is 0 when creating axis-aligned bounding box.\n"
     ]
    }
   ],
   "source": [
    "import open3d as o3d\n",
    "\n",
    "\n",
    "def load_point_cloud(file_path):\n",
    "    pcd = o3d.io.read_point_cloud(file_path)\n",
    "    return pcd\n",
    "\n",
    "if __name__ == \"__main__\":\n",
    "    input_file = \"data_conv_filtre.xyz\"\n",
    "\n",
    "\n",
    "    point_cloud = load_point_cloud(input_file)\n",
    "\n",
    "    o3d.visualization.draw_geometries([point_cloud])\n"
   ]
  }
 ],
 "metadata": {
  "kernelspec": {
   "display_name": "Python 3 (ipykernel)",
   "language": "python",
   "name": "python3"
  },
  "language_info": {
   "codemirror_mode": {
    "name": "ipython",
    "version": 3
   },
   "file_extension": ".py",
   "mimetype": "text/x-python",
   "name": "python",
   "nbconvert_exporter": "python",
   "pygments_lexer": "ipython3",
   "version": "3.11.7"
  }
 },
 "nbformat": 4,
 "nbformat_minor": 5
}
